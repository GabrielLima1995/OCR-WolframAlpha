{
  "nbformat": 4,
  "nbformat_minor": 0,
  "metadata": {
    "colab": {
      "name": "Entrega_TopicosAvancados_Murilo_sem_keys.ipynb",
      "provenance": [],
      "collapsed_sections": []
    },
    "kernelspec": {
      "name": "python3",
      "display_name": "Python 3"
    }
  },
  "cells": [
    {
      "cell_type": "markdown",
      "metadata": {
        "id": "pylYCDD7hZRF",
        "colab_type": "text"
      },
      "source": [
        "# IA-DL: Tópicos Avançados\n",
        "# Profº Murilo - IMT - Instituto Mauá de Tecnologia"
      ]
    },
    {
      "cell_type": "markdown",
      "metadata": {
        "id": "LgsM_VnJiMBy",
        "colab_type": "text"
      },
      "source": [
        "**Gabriel de Souza Lima RA: 20.84031-4**"
      ]
    },
    {
      "cell_type": "markdown",
      "metadata": {
        "id": "EpgmEG8FjOJG",
        "colab_type": "text"
      },
      "source": [
        "**Giovanni Bruno Molitor Schiffini RA: 20.84030-6**"
      ]
    },
    {
      "cell_type": "markdown",
      "metadata": {
        "id": "Hbh7xRcsjnMh",
        "colab_type": "text"
      },
      "source": [
        "Objetivo: API para reconhecimento de textos e fórmulas matemáticas escritas à mão e resolução das equações por meio do WolframAlpha."
      ]
    },
    {
      "cell_type": "markdown",
      "metadata": {
        "id": "08RgEpy3k7Uz",
        "colab_type": "text"
      },
      "source": [
        "#Instalação do WolframAlpha"
      ]
    },
    {
      "cell_type": "code",
      "metadata": {
        "id": "Q-T47fIrJ8O5",
        "colab_type": "code",
        "colab": {
          "base_uri": "https://localhost:8080/",
          "height": 126
        },
        "outputId": "7775e648-71c8-4089-d32f-2f492600e372"
      },
      "source": [
        "#Como a biblioteca wolframalpha não se encontra originalmente no Google Colab, faz-se necessário instalá-la. Neste caso, utilizamos o pip:\n",
        "\n",
        "!pip install wolframalpha"
      ],
      "execution_count": 62,
      "outputs": [
        {
          "output_type": "stream",
          "text": [
            "Requirement already satisfied: wolframalpha in /usr/local/lib/python3.6/dist-packages (4.0.0)\n",
            "Requirement already satisfied: six in /usr/local/lib/python3.6/dist-packages (from wolframalpha) (1.15.0)\n",
            "Requirement already satisfied: jaraco.itertools>=2.0 in /usr/local/lib/python3.6/dist-packages (from wolframalpha) (5.0.0)\n",
            "Requirement already satisfied: xmltodict in /usr/local/lib/python3.6/dist-packages (from wolframalpha) (0.12.0)\n",
            "Requirement already satisfied: more-itertools>=4.0.0 in /usr/local/lib/python3.6/dist-packages (from jaraco.itertools>=2.0->wolframalpha) (8.4.0)\n",
            "Requirement already satisfied: inflect in /usr/local/lib/python3.6/dist-packages (from jaraco.itertools>=2.0->wolframalpha) (2.1.0)\n"
          ],
          "name": "stdout"
        }
      ]
    },
    {
      "cell_type": "markdown",
      "metadata": {
        "id": "Ghr0WyJDnzuc",
        "colab_type": "text"
      },
      "source": [
        "#Importação das bibliotecas"
      ]
    },
    {
      "cell_type": "code",
      "metadata": {
        "id": "lykk5ahiT8WV",
        "colab_type": "code",
        "colab": {}
      },
      "source": [
        "#Importamos todas as bibliotecas necessárias para a aplicação, inclusive a recém instalada WolframAlpha:\n",
        "\n",
        "import sys\n",
        "import base64\n",
        "import requests\n",
        "import wolframalpha\n",
        "import json\n",
        "import ast"
      ],
      "execution_count": 63,
      "outputs": []
    },
    {
      "cell_type": "markdown",
      "metadata": {
        "id": "9AqnULN4n25t",
        "colab_type": "text"
      },
      "source": [
        "#Definição das funções"
      ]
    },
    {
      "cell_type": "code",
      "metadata": {
        "id": "89XjE-gjVfnK",
        "colab_type": "code",
        "colab": {}
      },
      "source": [
        "#Definimos a função math_ocr, baseada na mathpix, que consiste em um API JSON para OCR - Reconhecimento ótico de caracteres.\n",
        "\n",
        "def math_ocr(file_path):\n",
        "    image_uri = \"data:image/jpg;base64,\" + base64.b64encode(open(file_path, \"rb\").read()).decode()\n",
        "    r = requests.post(\"https://api.mathpix.com/v3/text\", data=json.dumps({'src': image_uri}), \n",
        "    headers={\"app_id\": \"<INSIRA O SEU APP ID>\", \"app_key\": \"<INSIRA O SEU APP KEY>\", \"Content-type\": \"application/json\"})\n",
        "    string = r.text\n",
        "    text = ast.literal_eval(string)[\"text\"]\n",
        "    return text.strip('\\(').strip('\\)')"
      ],
      "execution_count": 65,
      "outputs": []
    },
    {
      "cell_type": "code",
      "metadata": {
        "id": "U8jwjWBVVohP",
        "colab_type": "code",
        "colab": {}
      },
      "source": [
        "#Definimos a função wolframAlpha, baseada no API que permite a computação matemática a partir de uma entrada de texto.\n",
        "\n",
        "def wolframAlpha(input):\n",
        "    key = \"<INSIRA O SEU WOLFRAMALPHA KEY>\"\n",
        "    client = wolframalpha.Client(key)\n",
        "    request = client.query(input)\n",
        "    output = next(request.results).text\n",
        "    return output"
      ],
      "execution_count": 66,
      "outputs": []
    },
    {
      "cell_type": "markdown",
      "metadata": {
        "id": "4KgvUOoQoZVq",
        "colab_type": "text"
      },
      "source": [
        "#Processamento da imagem e resultado"
      ]
    },
    {
      "cell_type": "code",
      "metadata": {
        "id": "jYS8cMxLV3S5",
        "colab_type": "code",
        "colab": {}
      },
      "source": [
        "#Por meio da função math_ocr, anteriormente definida, uma imagem jpg é carregada e seu resultado em texto é armazenado na variável text.\n",
        "\n",
        "text = math_ocr(\"0217.jpg\")"
      ],
      "execution_count": 71,
      "outputs": []
    },
    {
      "cell_type": "code",
      "metadata": {
        "id": "evuAHXa1XX42",
        "colab_type": "code",
        "colab": {
          "base_uri": "https://localhost:8080/",
          "height": 35
        },
        "outputId": "1a069a03-b4cb-4af2-d967-80ccd7625660"
      },
      "source": [
        "#Exibimos o conteúdo da variável text para assegurarmos que o OCR funcionou adequadamente.\n",
        "\n",
        "print(text)"
      ],
      "execution_count": 72,
      "outputs": [
        {
          "output_type": "stream",
          "text": [
            " \\int_{0}^{4} x d x \n"
          ],
          "name": "stdout"
        }
      ]
    },
    {
      "cell_type": "code",
      "metadata": {
        "id": "-W3wAMgMD2wI",
        "colab_type": "code",
        "colab": {
          "base_uri": "https://localhost:8080/",
          "height": 35
        },
        "outputId": "4161d0ff-14b4-4e91-b8fb-f6995fe9479c"
      },
      "source": [
        "#Inserimos o conteúdo da variável text na função wolframAlpha e utilizamos este API para processar matematicamente a equação ou texto oriundo da imagem.\n",
        "\n",
        "print(wolframAlpha(text))"
      ],
      "execution_count": 73,
      "outputs": [
        {
          "output_type": "stream",
          "text": [
            "integral_0^4 x dx = 8\n"
          ],
          "name": "stdout"
        }
      ]
    },
    {
      "cell_type": "code",
      "metadata": {
        "id": "dVGZCf_DJ5tT",
        "colab_type": "code",
        "colab": {}
      },
      "source": [
        ""
      ],
      "execution_count": null,
      "outputs": []
    }
  ]
}